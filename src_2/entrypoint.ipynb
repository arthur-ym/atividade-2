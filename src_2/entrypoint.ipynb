{
 "cells": [
  {
   "cell_type": "code",
   "execution_count": null,
   "metadata": {},
   "outputs": [],
   "source": [
    "import os\n",
    "os.chdir('..')\n",
    "from src_2.classifier import WaterPotabilityClassifier\n",
    "import src_2.mlflowIO as mlflow_io\n",
    "print(os.getcwd())"
   ]
  },
  {
   "cell_type": "code",
   "execution_count": null,
   "metadata": {},
   "outputs": [],
   "source": [
    "# primeira run usando random forest\n",
    "mlflow_io.start_run(run_name=\"random_forest\", experiment_name=\"water_potability\")\n",
    "water_classifier=WaterPotabilityClassifier(\"EDA/water_potability.csv\")\n",
    "water_classifier.load_data()\n",
    "water_classifier.preprocess_data()\n",
    "water_classifier.train_model(\"random_forest\")\n",
    "water_classifier.run_evaluate_model()\n",
    "mlflow_io.end_run()"
   ]
  },
  {
   "cell_type": "code",
   "execution_count": null,
   "metadata": {},
   "outputs": [],
   "source": [
    "# segunda run usando xgboost 1 \n",
    "mlflow_io.start_run(run_name=\"xgboost\", experiment_name=\"water_potability\")\n",
    "water_classifier=WaterPotabilityClassifier(\"EDA/water_potability.csv\")\n",
    "water_classifier.load_data()\n",
    "water_classifier.preprocess_data()\n",
    "water_classifier.train_model(\"xgboost\")\n",
    "water_classifier.run_evaluate_model()\n",
    "mlflow_io.end_run()"
   ]
  },
  {
   "cell_type": "code",
   "execution_count": null,
   "metadata": {},
   "outputs": [],
   "source": [
    "# segunda run usando xgboost 2\n",
    "mlflow_io.start_run(run_name=\"xgboost 2\", experiment_name=\"water_potability\")\n",
    "water_classifier=WaterPotabilityClassifier(\"EDA/water_potability.csv\")\n",
    "water_classifier.load_data()\n",
    "water_classifier.preprocess_data()\n",
    "water_classifier.train_model(\"xgboost_2\")\n",
    "water_classifier.run_evaluate_model()\n",
    "mlflow_io.end_run()"
   ]
  }
 ],
 "metadata": {
  "kernelspec": {
   "display_name": "atividade2-3dHDeKOH-py3.11",
   "language": "python",
   "name": "python3"
  },
  "language_info": {
   "codemirror_mode": {
    "name": "ipython",
    "version": 3
   },
   "file_extension": ".py",
   "mimetype": "text/x-python",
   "name": "python",
   "nbconvert_exporter": "python",
   "pygments_lexer": "ipython3",
   "version": "3.11.3"
  }
 },
 "nbformat": 4,
 "nbformat_minor": 2
}
