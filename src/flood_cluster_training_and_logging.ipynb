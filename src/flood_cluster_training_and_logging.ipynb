{
 "cells": [
  {
   "cell_type": "markdown",
   "metadata": {},
   "source": [
    "## SETUP"
   ]
  },
  {
   "cell_type": "code",
   "execution_count": 1,
   "metadata": {},
   "outputs": [],
   "source": [
    "import warnings\n",
    "warnings.filterwarnings(\"ignore\")"
   ]
  },
  {
   "cell_type": "code",
   "execution_count": 2,
   "metadata": {},
   "outputs": [],
   "source": [
    "import numpy as np\n",
    "import matplotlib.pyplot as plt\n",
    "import pandas as pd\n",
    "import scipy.cluster.hierarchy as sch\n",
    "from sklearn.cluster import AgglomerativeClustering\n",
    "from sklearn.cluster import DBSCAN\n",
    "from sklearn import metrics\n",
    "import mlflow\n",
    "from math import radians, cos, sin, asin, sqrt\n",
    "\n",
    "\n",
    "sample_url = \"floods_geocoordinates.csv\"\n",
    "\n",
    "sample_data = pd.read_csv(sample_url)"
   ]
  },
  {
   "cell_type": "markdown",
   "metadata": {},
   "source": [
    "## TREINAMENTO"
   ]
  },
  {
   "cell_type": "code",
   "execution_count": 5,
   "metadata": {},
   "outputs": [],
   "source": [
    "#------------------------HAVERSINE DISTANCE------------------------\n",
    "def haversine(coordinates_1, coordinates_2):\n",
    "    \n",
    "    latitude_1, longitude_1 = coordinates_1\n",
    "    latitude_2, longitude_2 = coordinates_2\n",
    "    longitude_1, latitude_1, longitude_2, latitude_2 = map(radians, [longitude_1, latitude_1, longitude_2, latitude_2])\n",
    "\n",
    "    # haversine formula \n",
    "    distance_longitude = longitude_2 - longitude_1 # diference between two longitude\n",
    "    distance_latitude = latitude_2 - latitude_1    # diference between two latitude\n",
    "    \n",
    "    aux = sin(distance_latitude/2)**2 + cos(latitude_1) * cos(latitude_2) * sin(distance_longitude/2)**2\n",
    "    result = 2 * asin(sqrt(aux)) \n",
    "    \n",
    "    radius = 6371 # Radius of earth in kilometers\n",
    "    \n",
    "    return result * radius"
   ]
  },
  {
   "cell_type": "code",
   "execution_count": 7,
   "metadata": {},
   "outputs": [],
   "source": [
    "from scipy.spatial.distance import pdist, squareform\n",
    "\n",
    "sample_data = sample_data[['latitude', 'longitude']]\n",
    "\n",
    "#---------------------DISTANCE MATRIX---------------------\n",
    "distance_matrix = squareform(pdist(sample_data, (lambda u,v: haversine(u,v))))\n",
    "\n",
    "#---------------------CLUSTERS AGGLOMERATIVE - COMPLETE---------------------\n",
    "agglomerative_clustering = AgglomerativeClustering(n_clusters = None, linkage='complete', distance_threshold=0.9, compute_full_tree=True)  \n",
    "rotulo_agglomerative = agglomerative_clustering.fit(distance_matrix)\n"
   ]
  },
  {
   "cell_type": "markdown",
   "metadata": {},
   "source": [
    "## VALIDAÇÃO"
   ]
  },
  {
   "cell_type": "code",
   "execution_count": 8,
   "metadata": {},
   "outputs": [
    {
     "name": "stdout",
     "output_type": "stream",
     "text": [
      "silhoutte_metric:  0.622582712622008\n",
      "calinski_harabasz_metric:  5816153.446100937\n",
      "davies_bouldin_metric:  0.0173946483077762\n"
     ]
    }
   ],
   "source": [
    "#---------------------MÉTRICAS---------------------\n",
    "silhoutte_metric = metrics.silhouette_score(distance_matrix, rotulo_agglomerative.labels_)\n",
    "print(\"silhoutte_metric: \", silhoutte_metric)\n",
    "calinski_harabasz_metric = metrics.calinski_harabasz_score(distance_matrix, rotulo_agglomerative.labels_)\n",
    "print(\"calinski_harabasz_metric: \", calinski_harabasz_metric)\n",
    "davies_bouldin_metric = metrics.davies_bouldin_score(distance_matrix, rotulo_agglomerative.labels_)\n",
    "print(\"davies_bouldin_metric: \", davies_bouldin_metric)"
   ]
  },
  {
   "cell_type": "markdown",
   "metadata": {},
   "source": [
    "## VERSIONAMENTO"
   ]
  },
  {
   "cell_type": "code",
   "execution_count": 9,
   "metadata": {},
   "outputs": [
    {
     "data": {
      "text/plain": [
       "'09/02/2025 - 14:17:02'"
      ]
     },
     "execution_count": 9,
     "metadata": {},
     "output_type": "execute_result"
    }
   ],
   "source": [
    "from datetime import datetime\n",
    "\n",
    "now = datetime.now()\n",
    "\n",
    "current_time = now.strftime(\"%d/%m/%Y - %H:%M:%S\")\n",
    "current_time"
   ]
  },
  {
   "cell_type": "code",
   "execution_count": 10,
   "metadata": {},
   "outputs": [
    {
     "data": {
      "text/plain": [
       "<Experiment: artifact_location='mlflow-artifacts:/1', creation_time=1739108914241, experiment_id='1', last_update_time=1739108914241, lifecycle_stage='active', name='flood_areas_identifier', tags={}>"
      ]
     },
     "execution_count": 10,
     "metadata": {},
     "output_type": "execute_result"
    }
   ],
   "source": [
    "mlflow.set_tracking_uri('http://localhost:5001/')\n",
    "mlflow.set_experiment(f'flood_areas_identifier')"
   ]
  },
  {
   "cell_type": "code",
   "execution_count": 11,
   "metadata": {},
   "outputs": [
    {
     "name": "stdout",
     "output_type": "stream",
     "text": [
      "{'n_clusters': None, 'affinity': 'precomputed', 'linkage': 'complete', 'distance_threshold': 100, 'compute_full_tree': True}\n",
      "{'num_generated_clusters': 506, 'silhouette': np.float64(0.6456452328143671), 'calinski_harabasz': np.float64(320821.95671159046), 'davies_bouldin_metric': np.float64(0.08448773714470238)}\n"
     ]
    },
    {
     "name": "stderr",
     "output_type": "stream",
     "text": [
      "2025/02/09 14:17:09 WARNING mlflow.sklearn: Model was missing function: predict. Not logging python_function flavor!\n",
      "2025/02/09 14:17:21 WARNING mlflow.models.model: Model logged without a signature and input example. Please set `input_example` parameter when logging the model to auto infer the model signature.\n"
     ]
    },
    {
     "name": "stdout",
     "output_type": "stream",
     "text": [
      "🏃 View run floods_identifier_distance_threshold_100 at: http://localhost:5001/#/experiments/1/runs/6c2685d428ce41038cf47b0f0a248e10\n",
      "🧪 View experiment at: http://localhost:5001/#/experiments/1\n"
     ]
    },
    {
     "name": "stderr",
     "output_type": "stream",
     "text": [
      "2025/02/09 14:17:32 WARNING mlflow.sklearn: Model was missing function: predict. Not logging python_function flavor!\n"
     ]
    },
    {
     "name": "stdout",
     "output_type": "stream",
     "text": [
      "{'n_clusters': None, 'affinity': 'precomputed', 'linkage': 'complete', 'distance_threshold': 200, 'compute_full_tree': True}\n",
      "{'num_generated_clusters': 434, 'silhouette': np.float64(0.6432629638676016), 'calinski_harabasz': np.float64(65414.09020961857), 'davies_bouldin_metric': np.float64(0.1323203027572419)}\n"
     ]
    },
    {
     "name": "stderr",
     "output_type": "stream",
     "text": [
      "2025/02/09 14:17:37 WARNING mlflow.models.model: Model logged without a signature and input example. Please set `input_example` parameter when logging the model to auto infer the model signature.\n"
     ]
    },
    {
     "name": "stdout",
     "output_type": "stream",
     "text": [
      "🏃 View run floods_identifier_distance_threshold_200 at: http://localhost:5001/#/experiments/1/runs/a12e1109dff445bab69331ceb6375b43\n",
      "🧪 View experiment at: http://localhost:5001/#/experiments/1\n",
      "{'n_clusters': None, 'affinity': 'precomputed', 'linkage': 'complete', 'distance_threshold': 300, 'compute_full_tree': True}\n",
      "{'num_generated_clusters': 374, 'silhouette': np.float64(0.6371885691143028), 'calinski_harabasz': np.float64(29248.00633842535), 'davies_bouldin_metric': np.float64(0.18035678038265587)}\n"
     ]
    },
    {
     "name": "stderr",
     "output_type": "stream",
     "text": [
      "2025/02/09 14:17:39 WARNING mlflow.sklearn: Model was missing function: predict. Not logging python_function flavor!\n",
      "2025/02/09 14:17:44 WARNING mlflow.models.model: Model logged without a signature and input example. Please set `input_example` parameter when logging the model to auto infer the model signature.\n"
     ]
    },
    {
     "name": "stdout",
     "output_type": "stream",
     "text": [
      "🏃 View run floods_identifier_distance_threshold_300 at: http://localhost:5001/#/experiments/1/runs/0ba311cfda6b4b88a6faa895c7e489ef\n",
      "🧪 View experiment at: http://localhost:5001/#/experiments/1\n"
     ]
    },
    {
     "name": "stderr",
     "output_type": "stream",
     "text": [
      "2025/02/09 14:17:45 WARNING mlflow.sklearn: Model was missing function: predict. Not logging python_function flavor!\n"
     ]
    },
    {
     "name": "stdout",
     "output_type": "stream",
     "text": [
      "{'n_clusters': None, 'affinity': 'precomputed', 'linkage': 'complete', 'distance_threshold': 400, 'compute_full_tree': True}\n",
      "{'num_generated_clusters': 325, 'silhouette': np.float64(0.6422741489271767), 'calinski_harabasz': np.float64(18049.26736773855), 'davies_bouldin_metric': np.float64(0.23849658834855714)}\n"
     ]
    },
    {
     "name": "stderr",
     "output_type": "stream",
     "text": [
      "2025/02/09 14:17:50 WARNING mlflow.models.model: Model logged without a signature and input example. Please set `input_example` parameter when logging the model to auto infer the model signature.\n"
     ]
    },
    {
     "name": "stdout",
     "output_type": "stream",
     "text": [
      "🏃 View run floods_identifier_distance_threshold_400 at: http://localhost:5001/#/experiments/1/runs/6ec4f43da07f4c72a6ab7dca0b25225c\n",
      "🧪 View experiment at: http://localhost:5001/#/experiments/1\n"
     ]
    },
    {
     "name": "stderr",
     "output_type": "stream",
     "text": [
      "2025/02/09 14:17:51 WARNING mlflow.sklearn: Model was missing function: predict. Not logging python_function flavor!\n"
     ]
    },
    {
     "name": "stdout",
     "output_type": "stream",
     "text": [
      "{'n_clusters': None, 'affinity': 'precomputed', 'linkage': 'complete', 'distance_threshold': 500, 'compute_full_tree': True}\n",
      "{'num_generated_clusters': 287, 'silhouette': np.float64(0.627543240246473), 'calinski_harabasz': np.float64(11797.753517548437), 'davies_bouldin_metric': np.float64(0.28600236666940065)}\n"
     ]
    },
    {
     "name": "stderr",
     "output_type": "stream",
     "text": [
      "2025/02/09 14:17:55 WARNING mlflow.models.model: Model logged without a signature and input example. Please set `input_example` parameter when logging the model to auto infer the model signature.\n"
     ]
    },
    {
     "name": "stdout",
     "output_type": "stream",
     "text": [
      "🏃 View run floods_identifier_distance_threshold_500 at: http://localhost:5001/#/experiments/1/runs/a659087f3e9342388a7d64f05aa8ce2a\n",
      "🧪 View experiment at: http://localhost:5001/#/experiments/1\n"
     ]
    },
    {
     "name": "stderr",
     "output_type": "stream",
     "text": [
      "2025/02/09 14:17:56 WARNING mlflow.sklearn: Model was missing function: predict. Not logging python_function flavor!\n"
     ]
    },
    {
     "name": "stdout",
     "output_type": "stream",
     "text": [
      "{'n_clusters': None, 'affinity': 'precomputed', 'linkage': 'complete', 'distance_threshold': 600, 'compute_full_tree': True}\n",
      "{'num_generated_clusters': 256, 'silhouette': np.float64(0.6336616200712654), 'calinski_harabasz': np.float64(9366.01910530452), 'davies_bouldin_metric': np.float64(0.3166701510838368)}\n"
     ]
    },
    {
     "name": "stderr",
     "output_type": "stream",
     "text": [
      "2025/02/09 14:18:01 WARNING mlflow.models.model: Model logged without a signature and input example. Please set `input_example` parameter when logging the model to auto infer the model signature.\n"
     ]
    },
    {
     "name": "stdout",
     "output_type": "stream",
     "text": [
      "🏃 View run floods_identifier_distance_threshold_600 at: http://localhost:5001/#/experiments/1/runs/062e7ed9a71d41e89023941176d1e310\n",
      "🧪 View experiment at: http://localhost:5001/#/experiments/1\n"
     ]
    },
    {
     "name": "stderr",
     "output_type": "stream",
     "text": [
      "2025/02/09 14:18:02 WARNING mlflow.sklearn: Model was missing function: predict. Not logging python_function flavor!\n"
     ]
    },
    {
     "name": "stdout",
     "output_type": "stream",
     "text": [
      "{'n_clusters': None, 'affinity': 'precomputed', 'linkage': 'complete', 'distance_threshold': 700, 'compute_full_tree': True}\n",
      "{'num_generated_clusters': 234, 'silhouette': np.float64(0.6330914097510535), 'calinski_harabasz': np.float64(8224.67659537765), 'davies_bouldin_metric': np.float64(0.3347316911566836)}\n"
     ]
    },
    {
     "name": "stderr",
     "output_type": "stream",
     "text": [
      "2025/02/09 14:18:06 WARNING mlflow.models.model: Model logged without a signature and input example. Please set `input_example` parameter when logging the model to auto infer the model signature.\n"
     ]
    },
    {
     "name": "stdout",
     "output_type": "stream",
     "text": [
      "🏃 View run floods_identifier_distance_threshold_700 at: http://localhost:5001/#/experiments/1/runs/6915720b5ed742899d67730bb1c9a5b2\n",
      "🧪 View experiment at: http://localhost:5001/#/experiments/1\n"
     ]
    },
    {
     "name": "stderr",
     "output_type": "stream",
     "text": [
      "2025/02/09 14:18:07 WARNING mlflow.sklearn: Model was missing function: predict. Not logging python_function flavor!\n"
     ]
    },
    {
     "name": "stdout",
     "output_type": "stream",
     "text": [
      "{'n_clusters': None, 'affinity': 'precomputed', 'linkage': 'complete', 'distance_threshold': 800, 'compute_full_tree': True}\n",
      "{'num_generated_clusters': 217, 'silhouette': np.float64(0.6303548579598637), 'calinski_harabasz': np.float64(7275.816355435488), 'davies_bouldin_metric': np.float64(0.3527423031621193)}\n"
     ]
    },
    {
     "name": "stderr",
     "output_type": "stream",
     "text": [
      "2025/02/09 14:18:12 WARNING mlflow.models.model: Model logged without a signature and input example. Please set `input_example` parameter when logging the model to auto infer the model signature.\n"
     ]
    },
    {
     "name": "stdout",
     "output_type": "stream",
     "text": [
      "🏃 View run floods_identifier_distance_threshold_800 at: http://localhost:5001/#/experiments/1/runs/528e650f3a0f452f9f492a9d571a26b8\n",
      "🧪 View experiment at: http://localhost:5001/#/experiments/1\n",
      "{'n_clusters': None, 'affinity': 'precomputed', 'linkage': 'complete', 'distance_threshold': 900, 'compute_full_tree': True}\n",
      "{'num_generated_clusters': 199, 'silhouette': np.float64(0.6255070788595858), 'calinski_harabasz': np.float64(6237.508216167444), 'davies_bouldin_metric': np.float64(0.36036177368683)}\n"
     ]
    },
    {
     "name": "stderr",
     "output_type": "stream",
     "text": [
      "2025/02/09 14:18:13 WARNING mlflow.sklearn: Model was missing function: predict. Not logging python_function flavor!\n",
      "2025/02/09 14:18:18 WARNING mlflow.models.model: Model logged without a signature and input example. Please set `input_example` parameter when logging the model to auto infer the model signature.\n"
     ]
    },
    {
     "name": "stdout",
     "output_type": "stream",
     "text": [
      "🏃 View run floods_identifier_distance_threshold_900 at: http://localhost:5001/#/experiments/1/runs/1895d67dfefc4ea9be6f5ae52814afc8\n",
      "🧪 View experiment at: http://localhost:5001/#/experiments/1\n"
     ]
    },
    {
     "name": "stderr",
     "output_type": "stream",
     "text": [
      "2025/02/09 14:18:19 WARNING mlflow.sklearn: Model was missing function: predict. Not logging python_function flavor!\n"
     ]
    },
    {
     "name": "stdout",
     "output_type": "stream",
     "text": [
      "{'n_clusters': None, 'affinity': 'precomputed', 'linkage': 'complete', 'distance_threshold': 1000, 'compute_full_tree': True}\n",
      "{'num_generated_clusters': 183, 'silhouette': np.float64(0.622038657717427), 'calinski_harabasz': np.float64(5525.159166869797), 'davies_bouldin_metric': np.float64(0.36751446558720346)}\n"
     ]
    },
    {
     "name": "stderr",
     "output_type": "stream",
     "text": [
      "2025/02/09 14:18:23 WARNING mlflow.models.model: Model logged without a signature and input example. Please set `input_example` parameter when logging the model to auto infer the model signature.\n"
     ]
    },
    {
     "name": "stdout",
     "output_type": "stream",
     "text": [
      "🏃 View run floods_identifier_distance_threshold_1000 at: http://localhost:5001/#/experiments/1/runs/db357fc7569343b2b95ac525c42782f0\n",
      "🧪 View experiment at: http://localhost:5001/#/experiments/1\n"
     ]
    },
    {
     "name": "stderr",
     "output_type": "stream",
     "text": [
      "2025/02/09 14:18:25 WARNING mlflow.sklearn: Model was missing function: predict. Not logging python_function flavor!\n"
     ]
    },
    {
     "name": "stdout",
     "output_type": "stream",
     "text": [
      "{'n_clusters': None, 'affinity': 'precomputed', 'linkage': 'complete', 'distance_threshold': 1100, 'compute_full_tree': True}\n",
      "{'num_generated_clusters': 172, 'silhouette': np.float64(0.6038880820411042), 'calinski_harabasz': np.float64(4772.1663687048995), 'davies_bouldin_metric': np.float64(0.41736906550860586)}\n"
     ]
    },
    {
     "name": "stderr",
     "output_type": "stream",
     "text": [
      "2025/02/09 14:18:30 WARNING mlflow.models.model: Model logged without a signature and input example. Please set `input_example` parameter when logging the model to auto infer the model signature.\n"
     ]
    },
    {
     "name": "stdout",
     "output_type": "stream",
     "text": [
      "🏃 View run floods_identifier_distance_threshold_1100 at: http://localhost:5001/#/experiments/1/runs/6d81f2781d3a4b6b9e55180124e13ea5\n",
      "🧪 View experiment at: http://localhost:5001/#/experiments/1\n"
     ]
    },
    {
     "name": "stderr",
     "output_type": "stream",
     "text": [
      "2025/02/09 14:18:31 WARNING mlflow.sklearn: Model was missing function: predict. Not logging python_function flavor!\n"
     ]
    },
    {
     "name": "stdout",
     "output_type": "stream",
     "text": [
      "{'n_clusters': None, 'affinity': 'precomputed', 'linkage': 'complete', 'distance_threshold': 1200, 'compute_full_tree': True}\n",
      "{'num_generated_clusters': 158, 'silhouette': np.float64(0.5869519849181912), 'calinski_harabasz': np.float64(4114.094689937568), 'davies_bouldin_metric': np.float64(0.45732807494293476)}\n"
     ]
    },
    {
     "name": "stderr",
     "output_type": "stream",
     "text": [
      "2025/02/09 14:18:36 WARNING mlflow.models.model: Model logged without a signature and input example. Please set `input_example` parameter when logging the model to auto infer the model signature.\n"
     ]
    },
    {
     "name": "stdout",
     "output_type": "stream",
     "text": [
      "🏃 View run floods_identifier_distance_threshold_1200 at: http://localhost:5001/#/experiments/1/runs/c0bedfddb7cf44febb26aecf4aa44aa5\n",
      "🧪 View experiment at: http://localhost:5001/#/experiments/1\n"
     ]
    },
    {
     "name": "stderr",
     "output_type": "stream",
     "text": [
      "2025/02/09 14:18:37 WARNING mlflow.sklearn: Model was missing function: predict. Not logging python_function flavor!\n"
     ]
    },
    {
     "name": "stdout",
     "output_type": "stream",
     "text": [
      "{'n_clusters': None, 'affinity': 'precomputed', 'linkage': 'complete', 'distance_threshold': 1300, 'compute_full_tree': True}\n",
      "{'num_generated_clusters': 151, 'silhouette': np.float64(0.5888104681800227), 'calinski_harabasz': np.float64(4043.4187548152804), 'davies_bouldin_metric': np.float64(0.46798412947398227)}\n"
     ]
    },
    {
     "name": "stderr",
     "output_type": "stream",
     "text": [
      "2025/02/09 14:18:43 WARNING mlflow.models.model: Model logged without a signature and input example. Please set `input_example` parameter when logging the model to auto infer the model signature.\n"
     ]
    },
    {
     "name": "stdout",
     "output_type": "stream",
     "text": [
      "🏃 View run floods_identifier_distance_threshold_1300 at: http://localhost:5001/#/experiments/1/runs/7fb504446767426289748e221187633f\n",
      "🧪 View experiment at: http://localhost:5001/#/experiments/1\n"
     ]
    }
   ],
   "source": [
    "distance_threshold_list = [100,200,300,400,500,600,700,800,900,1000,1100,1200,1300]\n",
    "\n",
    "for i in distance_threshold_list:\n",
    "\n",
    "    run_name = f'floods_identifier_distance_threshold_{i}'\n",
    "\n",
    "    # Start run\n",
    "    mlflow.start_run(run_name=run_name)\n",
    "\n",
    "    #---------------------CLUSTERS AGGLOMERATIVE - WARD---------------------\n",
    "    agglomerative_clustering = AgglomerativeClustering(n_clusters = None, metric='precomputed', linkage='complete', distance_threshold=i/1000, compute_full_tree=True)  \n",
    "    agglomerative_clustering = agglomerative_clustering.fit(distance_matrix)\n",
    "\n",
    "    silhoutte_metric = metrics.silhouette_score(distance_matrix, agglomerative_clustering.labels_)\n",
    "    calinski_harabasz_metric = metrics.calinski_harabasz_score(distance_matrix, agglomerative_clustering.labels_)\n",
    "    davies_bouldin_metric = metrics.davies_bouldin_score(distance_matrix, agglomerative_clustering.labels_)\n",
    "\n",
    "    parametros = {\n",
    "        \"n_clusters\": None,\n",
    "        \"affinity\": 'precomputed',\n",
    "        \"linkage\": \"complete\",\n",
    "        \"distance_threshold\": i,\n",
    "        \"compute_full_tree\": True,\n",
    "    }\n",
    "\n",
    "    print(parametros)\n",
    "\n",
    "    metricas = {\n",
    "        \"num_generated_clusters\": len(set(agglomerative_clustering.labels_)),\n",
    "        \"silhouette\": silhoutte_metric,\n",
    "        \"calinski_harabasz\": calinski_harabasz_metric,\n",
    "        \"davies_bouldin_metric\": davies_bouldin_metric,\n",
    "    }\n",
    "\n",
    "    print(metricas)\n",
    "\n",
    "    mlflow.set_tag(\"data\", current_time)\n",
    "    mlflow.log_params(parametros)\n",
    "    mlflow.log_metrics(metricas)\n",
    "\n",
    "    mlflow.sklearn.log_model(agglomerative_clustering, \"agglomerative_clustering\")\n",
    "\n",
    "    mlflow.end_run()"
   ]
  }
 ],
 "metadata": {
  "kernelspec": {
   "display_name": "atividade2-3dHDeKOH-py3.11",
   "language": "python",
   "name": "python3"
  },
  "language_info": {
   "codemirror_mode": {
    "name": "ipython",
    "version": 3
   },
   "file_extension": ".py",
   "mimetype": "text/x-python",
   "name": "python",
   "nbconvert_exporter": "python",
   "pygments_lexer": "ipython3",
   "version": "3.11.3"
  },
  "orig_nbformat": 4
 },
 "nbformat": 4,
 "nbformat_minor": 2
}
